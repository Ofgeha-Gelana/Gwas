{
 "cells": [
  {
   "cell_type": "code",
   "execution_count": 1,
   "metadata": {},
   "outputs": [],
   "source": [
    "import gwaslab as gl \n",
    "import pandas as pd \n",
    "import numpy as np \n",
    "import seaborn as sns \n",
    "import matplotlib.pyplot as plt \n",
    "\n",
    "\n",
    "import matplotlib.pyplot as plt\n",
    "plt.rcParams['font.family'] = 'DejaVu Sans'\n"
   ]
  },
  {
   "cell_type": "code",
   "execution_count": 2,
   "metadata": {},
   "outputs": [
    {
     "name": "stdout",
     "output_type": "stream",
     "text": [
      "2025/02/21 05:30:04 GWASLab v3.5.5 https://cloufield.github.io/gwaslab/\n",
      "2025/02/21 05:30:04 (C) 2022-2025, Yunye He, Kamatani Lab, GPL-3.0 license, gwaslab@gmail.com\n",
      "2025/02/21 05:30:04 Start to load format from formatbook....\n",
      "2025/02/21 05:30:04  -plink2 format meta info:\n",
      "2025/02/21 05:30:04   - format_name  : PLINK2 .glm.firth, .glm.logistic,.glm.linear\n",
      "2025/02/21 05:30:04   - format_source  : https://www.cog-genomics.org/plink/2.0/formats\n",
      "2025/02/21 05:30:04   - format_version  : Alpha 3.3 final (3 Jun)\n",
      "2025/02/21 05:30:04   - last_check_date  :  20220806\n",
      "2025/02/21 05:30:04  -plink2 to gwaslab format dictionary:\n",
      "2025/02/21 05:30:04   - plink2 keys: ID,#CHROM,POS,REF,ALT,A1,OBS_CT,A1_FREQ,BETA,LOG(OR)_SE,SE,T_STAT,Z_STAT,P,LOG10_P,MACH_R2,OR\n",
      "2025/02/21 05:30:04   - gwaslab values: SNPID,CHR,POS,REF,ALT,EA,N,EAF,BETA,SE,SE,T,Z,P,MLOG10P,INFO,OR\n",
      "2025/02/21 05:30:04 Start to initialize gl.Sumstats from file :1kgeas.B1.glm.firth.gz\n",
      "2025/02/21 05:30:06  -Reading columns          : A1_FREQ,A1,#CHROM,OR,P,REF,ALT,Z_STAT,POS,LOG(OR)_SE,ID,OBS_CT\n",
      "2025/02/21 05:30:06  -Renaming columns to      : EAF,EA,CHR,OR,P,REF,ALT,Z,POS,SE,SNPID,N\n",
      "2025/02/21 05:30:06  -Current Dataframe shape : 1128732  x  12\n",
      "2025/02/21 05:30:06  -Initiating a status column: STATUS ...\n",
      "2025/02/21 05:30:06  #WARNING! Version of genomic coordinates is unknown...\n",
      "2025/02/21 05:30:06  NEA not available: assigning REF to NEA...\n",
      "2025/02/21 05:30:06  -EA,REF and ALT columns are available: assigning NEA...\n",
      "2025/02/21 05:30:06  -For variants with EA == ALT : assigning REF to NEA ...\n",
      "2025/02/21 05:30:06  -For variants with EA != ALT : assigning ALT to NEA ...\n",
      "2025/02/21 05:30:07 Start to reorder the columns...v3.5.5\n",
      "2025/02/21 05:30:07  -Current Dataframe shape : 1128732 x 14 ; Memory usage: 107.58 MB\n",
      "2025/02/21 05:30:07  -Reordering columns to    : SNPID,CHR,POS,EA,NEA,EAF,SE,Z,P,OR,N,STATUS,REF,ALT\n",
      "2025/02/21 05:30:07 Finished reordering the columns.\n",
      "2025/02/21 05:30:07  -Trying to convert datatype for CHR: string -> Int64...Int64\n",
      "2025/02/21 05:30:07  -Column  : SNPID  CHR   POS   EA       NEA      EAF     SE      Z       P       OR      N     STATUS   REF      ALT     \n",
      "2025/02/21 05:30:07  -DType   : object Int64 int64 category category float64 float64 float64 float64 float64 int64 category category category\n",
      "2025/02/21 05:30:07  -Verified: T      T     T     T        T        T       T       T       T       T       T     T        T        T       \n",
      "2025/02/21 05:30:07  -Current Dataframe memory usage: 108.66 MB\n",
      "2025/02/21 05:30:07 Finished loading data successfully!\n"
     ]
    }
   ],
   "source": [
    "sumstats = gl.Sumstats(\"1kgeas.B1.glm.firth.gz\",fmt=\"plink2\")"
   ]
  },
  {
   "cell_type": "code",
   "execution_count": null,
   "metadata": {},
   "outputs": [],
   "source": []
  }
 ],
 "metadata": {
  "kernelspec": {
   "display_name": "gwas_env",
   "language": "python",
   "name": "python3"
  },
  "language_info": {
   "codemirror_mode": {
    "name": "ipython",
    "version": 3
   },
   "file_extension": ".py",
   "mimetype": "text/x-python",
   "name": "python",
   "nbconvert_exporter": "python",
   "pygments_lexer": "ipython3",
   "version": "3.10.16"
  }
 },
 "nbformat": 4,
 "nbformat_minor": 2
}
