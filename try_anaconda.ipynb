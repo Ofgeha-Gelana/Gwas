{
 "cells": [
  {
   "cell_type": "code",
   "execution_count": 2,
   "metadata": {},
   "outputs": [],
   "source": [
    "import gwaslab as gl \n",
    "import pandas as pd \n",
    "import numpy as np \n",
    "import seaborn as sns \n",
    "import matplotlib.pyplot as plt \n",
    "\n",
    "\n",
    "import matplotlib.pyplot as plt\n",
    "plt.rcParams['font.family'] = 'DejaVu Sans'\n"
   ]
  },
  {
   "cell_type": "code",
   "execution_count": 3,
   "metadata": {},
   "outputs": [
    {
     "name": "stdout",
     "output_type": "stream",
     "text": [
      "2025/02/21 05:51:48 GWASLab v3.5.5 https://cloufield.github.io/gwaslab/\n",
      "2025/02/21 05:51:48 (C) 2022-2025, Yunye He, Kamatani Lab, GPL-3.0 license, gwaslab@gmail.com\n",
      "2025/02/21 05:51:48 Start to load format from formatbook....\n",
      "2025/02/21 05:51:48  -plink2 format meta info:\n",
      "2025/02/21 05:51:48   - format_name  : PLINK2 .glm.firth, .glm.logistic,.glm.linear\n",
      "2025/02/21 05:51:48   - format_source  : https://www.cog-genomics.org/plink/2.0/formats\n",
      "2025/02/21 05:51:48   - format_version  : Alpha 3.3 final (3 Jun)\n",
      "2025/02/21 05:51:48   - last_check_date  :  20220806\n",
      "2025/02/21 05:51:48  -plink2 to gwaslab format dictionary:\n",
      "2025/02/21 05:51:48   - plink2 keys: ID,#CHROM,POS,REF,ALT,A1,OBS_CT,A1_FREQ,BETA,LOG(OR)_SE,SE,T_STAT,Z_STAT,P,LOG10_P,MACH_R2,OR\n",
      "2025/02/21 05:51:48   - gwaslab values: SNPID,CHR,POS,REF,ALT,EA,N,EAF,BETA,SE,SE,T,Z,P,MLOG10P,INFO,OR\n",
      "2025/02/21 05:51:48 Start to initialize gl.Sumstats from file :1kgeas.B1.glm.firth.gz\n",
      "2025/02/21 05:51:50  -Reading columns          : A1,POS,OBS_CT,P,A1_FREQ,REF,Z_STAT,OR,ID,LOG(OR)_SE,#CHROM,ALT\n",
      "2025/02/21 05:51:50  -Renaming columns to      : EA,POS,N,P,EAF,REF,Z,OR,SNPID,SE,CHR,ALT\n",
      "2025/02/21 05:51:50  -Current Dataframe shape : 1128732  x  12\n",
      "2025/02/21 05:51:50  -Initiating a status column: STATUS ...\n",
      "2025/02/21 05:51:50  #WARNING! Version of genomic coordinates is unknown...\n",
      "2025/02/21 05:51:51  NEA not available: assigning REF to NEA...\n",
      "2025/02/21 05:51:51  -EA,REF and ALT columns are available: assigning NEA...\n",
      "2025/02/21 05:51:51  -For variants with EA == ALT : assigning REF to NEA ...\n",
      "2025/02/21 05:51:51  -For variants with EA != ALT : assigning ALT to NEA ...\n",
      "2025/02/21 05:51:51 Start to reorder the columns...v3.5.5\n",
      "2025/02/21 05:51:51  -Current Dataframe shape : 1128732 x 14 ; Memory usage: 107.58 MB\n",
      "2025/02/21 05:51:51  -Reordering columns to    : SNPID,CHR,POS,EA,NEA,EAF,SE,Z,P,OR,N,STATUS,REF,ALT\n",
      "2025/02/21 05:51:51 Finished reordering the columns.\n",
      "2025/02/21 05:51:52  -Trying to convert datatype for CHR: string -> Int64...Int64\n",
      "2025/02/21 05:51:52  -Column  : SNPID  CHR   POS   EA       NEA      EAF     SE      Z       P       OR      N     STATUS   REF      ALT     \n",
      "2025/02/21 05:51:52  -DType   : object Int64 int64 category category float64 float64 float64 float64 float64 int64 category category category\n",
      "2025/02/21 05:51:52  -Verified: T      T     T     T        T        T       T       T       T       T       T     T        T        T       \n",
      "2025/02/21 05:51:52  -Current Dataframe memory usage: 108.66 MB\n",
      "2025/02/21 05:51:52 Finished loading data successfully!\n"
     ]
    }
   ],
   "source": [
    "sumstats = gl.Sumstats(\"1kgeas.B1.glm.firth.gz\",fmt=\"plink2\")"
   ]
  },
  {
   "cell_type": "code",
   "execution_count": 4,
   "metadata": {},
   "outputs": [
    {
     "name": "stdout",
     "output_type": "stream",
     "text": [
      "2025/02/21 05:51:52 Start to check SNPID/rsID...v3.5.5\n",
      "2025/02/21 05:51:52  -Current Dataframe shape : 1128732 x 14 ; Memory usage: 108.66 MB\n",
      "2025/02/21 05:51:52  -Checking SNPID data type...\n",
      "2025/02/21 05:51:52  -Converting SNPID to pd.string data type...\n",
      "2025/02/21 05:51:52  -Checking if SNPID is CHR:POS:NEA:EA...(separator: - ,: , _)\n",
      "2025/02/21 05:51:56 Finished checking SNPID/rsID.\n",
      "2025/02/21 05:51:56 Start to fix chromosome notation (CHR)...v3.5.5\n",
      "2025/02/21 05:51:56  -Current Dataframe shape : 1128732 x 14 ; Memory usage: 108.66 MB\n",
      "2025/02/21 05:51:56  -Checking CHR data type...\n",
      "2025/02/21 05:51:56  -Variants with standardized chromosome notation: 1128732\n",
      "2025/02/21 05:51:56  -All CHR are already fixed...\n",
      "2025/02/21 05:51:58 Finished fixing chromosome notation (CHR).\n",
      "2025/02/21 05:51:59 Start to fix basepair positions (POS)...v3.5.5\n",
      "2025/02/21 05:51:59  -Current Dataframe shape : 1128732 x 14 ; Memory usage: 108.66 MB\n",
      "2025/02/21 05:51:59  -Converting to Int64 data type ...\n",
      "2025/02/21 05:52:02  -Position bound:(0 , 250,000,000)\n",
      "2025/02/21 05:52:02  -Removed outliers: 0\n",
      "2025/02/21 05:52:02 Finished fixing basepair positions (POS).\n",
      "2025/02/21 05:52:02 Start to fix alleles (EA and NEA)...v3.5.5\n",
      "2025/02/21 05:52:02  -Current Dataframe shape : 1128732 x 14 ; Memory usage: 118.35 MB\n",
      "2025/02/21 05:52:02  -Converted all bases to string datatype and UPPERCASE.\n",
      "2025/02/21 05:52:02  -Variants with bad EA  : 0\n",
      "2025/02/21 05:52:02  -Variants with bad NEA : 0\n",
      "2025/02/21 05:52:03  -Variants with NA for EA or NEA: 0\n",
      "2025/02/21 05:52:03  -Variants with same EA and NEA: 0\n",
      "2025/02/21 05:52:03  -Detected 0 variants with alleles that contain bases other than A/C/T/G .\n",
      "2025/02/21 05:52:05 Finished fixing alleles (EA and NEA).\n",
      "2025/02/21 05:52:05 Start to perform sanity check for statistics...v3.5.5\n",
      "2025/02/21 05:52:05  -Current Dataframe shape : 1128732 x 14 ; Memory usage: 118.35 MB\n",
      "2025/02/21 05:52:05  -Comparison tolerance for floats: 1e-07\n",
      "2025/02/21 05:52:05  -Checking if 0 <= N <= 2147483647 ...\n",
      "2025/02/21 05:52:05  -Removed 0 variants with bad/na N.\n",
      "2025/02/21 05:52:05  -Checking if -1e-07 < EAF < 1.0000001 ...\n",
      "2025/02/21 05:52:05  -Removed 0 variants with bad/na EAF.\n",
      "2025/02/21 05:52:05  -Checking if -9999.0000001 < Z < 9999.0000001 ...\n",
      "2025/02/21 05:52:06   -Examples of invalid variants(SNPID): 1:15774:G:A,1:15777:A:G,1:57292:C:T,1:87360:C:T,1:625392:T:C ...\n",
      "2025/02/21 05:52:06   -Examples of invalid values (Z): NA,NA,NA,NA,NA ...\n",
      "2025/02/21 05:52:06  -Removed 220793 variants with bad/na Z.\n",
      "2025/02/21 05:52:06  -Checking if -1e-07 < P < 1.0000001 ...\n",
      "2025/02/21 05:52:06  -Removed 0 variants with bad/na P.\n",
      "2025/02/21 05:52:06  -Checking if -1e-07 < SE < inf ...\n",
      "2025/02/21 05:52:06  -Removed 0 variants with bad/na SE.\n",
      "2025/02/21 05:52:06  -Checking if -100.0000001 < OR < 100.0000001 ...\n",
      "2025/02/21 05:52:06  -Removed 0 variants with bad/na OR.\n",
      "2025/02/21 05:52:06  -Checking STATUS and converting STATUS to categories....\n",
      "2025/02/21 05:52:07  -Removed 220793 variants with bad statistics in total.\n",
      "2025/02/21 05:52:07  -Data types for each column:\n",
      "2025/02/21 05:52:07  -Column  : SNPID  CHR   POS   EA       NEA      EAF     SE      Z       P       OR      N     STATUS   REF      ALT     \n",
      "2025/02/21 05:52:07  -DType   : string Int64 Int64 category category float32 float64 float64 float64 float64 Int64 category category category\n",
      "2025/02/21 05:52:07  -Verified: T      T     T     T        T        T       T       T       T       T       T     T        T        T       \n",
      "2025/02/21 05:52:07 Finished sanity check for statistics.\n",
      "2025/02/21 05:52:07 Start to check data consistency across columns...v3.5.5\n",
      "2025/02/21 05:52:07  -Current Dataframe shape : 907939 x 14 ; Memory usage: 96.80 MB\n",
      "2025/02/21 05:52:07  -Tolerance: 0.001 (Relative) and 0.001 (Absolute)\n",
      "2025/02/21 05:52:07  -No availalbe columns for data consistency checking...Skipping...\n",
      "2025/02/21 05:52:07 Finished checking data consistency across columns.\n",
      "2025/02/21 05:52:07 Start to normalize indels...v3.5.5\n",
      "2025/02/21 05:52:07  -Current Dataframe shape : 907939 x 14 ; Memory usage: 96.80 MB\n",
      "2025/02/21 05:52:07  -No available variants to normalize..\n",
      "2025/02/21 05:52:07 Finished normalizing variants successfully!\n",
      "2025/02/21 05:52:07 Start to sort the genome coordinates...v3.5.5\n",
      "2025/02/21 05:52:07  -Current Dataframe shape : 907939 x 14 ; Memory usage: 96.80 MB\n",
      "2025/02/21 05:52:08 Finished sorting coordinates.\n",
      "2025/02/21 05:52:08 Start to reorder the columns...v3.5.5\n",
      "2025/02/21 05:52:08  -Current Dataframe shape : 907939 x 14 ; Memory usage: 89.87 MB\n",
      "2025/02/21 05:52:08  -Reordering columns to    : SNPID,CHR,POS,EA,NEA,EAF,SE,Z,P,OR,N,STATUS,REF,ALT\n",
      "2025/02/21 05:52:08 Finished reordering the columns.\n"
     ]
    }
   ],
   "source": [
    "sumstats.basic_check()"
   ]
  },
  {
   "cell_type": "code",
   "execution_count": null,
   "metadata": {},
   "outputs": [],
   "source": []
  }
 ],
 "metadata": {
  "kernelspec": {
   "display_name": "gwas_env",
   "language": "python",
   "name": "python3"
  },
  "language_info": {
   "codemirror_mode": {
    "name": "ipython",
    "version": 3
   },
   "file_extension": ".py",
   "mimetype": "text/x-python",
   "name": "python",
   "nbconvert_exporter": "python",
   "pygments_lexer": "ipython3",
   "version": "3.10.16"
  }
 },
 "nbformat": 4,
 "nbformat_minor": 2
}
