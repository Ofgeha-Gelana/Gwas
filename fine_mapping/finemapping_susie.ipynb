{
 "cells": [
  {
   "cell_type": "markdown",
   "metadata": {},
   "source": [
    "### Finemapping using susieR\n"
   ]
  },
  {
   "cell_type": "markdown",
   "metadata": {},
   "source": [
    "\n",
    "Data preparation\n"
   ]
  },
  {
   "cell_type": "code",
   "execution_count": 1,
   "metadata": {},
   "outputs": [],
   "source": [
    "import gwaslab as gl\n",
    "import pandas as pd\n",
    "import numpy as np\n",
    "import seaborn as sns\n",
    "import matplotlib.pyplot as plt"
   ]
  },
  {
   "cell_type": "markdown",
   "metadata": {},
   "source": [
    "#### Load sumstats"
   ]
  },
  {
   "cell_type": "code",
   "execution_count": 2,
   "metadata": {},
   "outputs": [
    {
     "name": "stdout",
     "output_type": "stream",
     "text": [
      "2025/03/23 05:17:45 GWASLab v3.5.5 https://cloufield.github.io/gwaslab/\n",
      "2025/03/23 05:17:45 (C) 2022-2025, Yunye He, Kamatani Lab, GPL-3.0 license, gwaslab@gmail.com\n",
      "2025/03/23 05:17:45 Start to load format from formatbook....\n",
      "2025/03/23 05:17:45  -plink2 format meta info:\n",
      "2025/03/23 05:17:45   - format_name  : PLINK2 .glm.firth, .glm.logistic,.glm.linear\n",
      "2025/03/23 05:17:45   - format_source  : https://www.cog-genomics.org/plink/2.0/formats\n",
      "2025/03/23 05:17:45   - format_version  : Alpha 3.3 final (3 Jun)\n",
      "2025/03/23 05:17:45   - last_check_date  :  20220806\n",
      "2025/03/23 05:17:45  -plink2 to gwaslab format dictionary:\n",
      "2025/03/23 05:17:45   - plink2 keys: ID,#CHROM,POS,REF,ALT,A1,OBS_CT,A1_FREQ,BETA,LOG(OR)_SE,SE,T_STAT,Z_STAT,P,LOG10_P,MACH_R2,OR\n",
      "2025/03/23 05:17:45   - gwaslab values: SNPID,CHR,POS,REF,ALT,EA,N,EAF,BETA,SE,SE,T,Z,P,MLOG10P,INFO,OR\n",
      "2025/03/23 05:17:45 Start to initialize gl.Sumstats from file :./1kgeas.B1.glm.firth.gz\n",
      "2025/03/23 05:17:47  -Reading columns          : OR,REF,A1,POS,A1_FREQ,#CHROM,ID,P,OBS_CT,ALT,Z_STAT,LOG(OR)_SE\n",
      "2025/03/23 05:17:47  -Renaming columns to      : OR,REF,EA,POS,EAF,CHR,SNPID,P,N,ALT,Z,SE\n",
      "2025/03/23 05:17:47  -Current Dataframe shape : 1128732  x  12\n",
      "2025/03/23 05:17:47  -Initiating a status column: STATUS ...\n",
      "2025/03/23 05:17:47  #WARNING! Version of genomic coordinates is unknown...\n",
      "2025/03/23 05:17:48  NEA not available: assigning REF to NEA...\n",
      "2025/03/23 05:17:48  -EA,REF and ALT columns are available: assigning NEA...\n",
      "2025/03/23 05:17:48  -For variants with EA == ALT : assigning REF to NEA ...\n",
      "2025/03/23 05:17:48  -For variants with EA != ALT : assigning ALT to NEA ...\n",
      "2025/03/23 05:17:48 Start to reorder the columns...v3.5.5\n",
      "2025/03/23 05:17:48  -Current Dataframe shape : 1128732 x 14 ; Memory usage: 107.58 MB\n",
      "2025/03/23 05:17:48  -Reordering columns to    : SNPID,CHR,POS,EA,NEA,EAF,SE,Z,P,OR,N,STATUS,REF,ALT\n",
      "2025/03/23 05:17:48 Finished reordering the columns.\n",
      "2025/03/23 05:17:48  -Trying to convert datatype for CHR: string -> Int64...Int64\n",
      "2025/03/23 05:17:49  -Column  : SNPID  CHR   POS   EA       NEA      EAF     SE      Z       P       OR      N     STATUS   REF      ALT     \n",
      "2025/03/23 05:17:49  -DType   : object Int64 int64 category category float64 float64 float64 float64 float64 int64 category category category\n",
      "2025/03/23 05:17:49  -Verified: T      T     T     T        T        T       T       T       T       T       T     T        T        T       \n",
      "2025/03/23 05:17:49  -Current Dataframe memory usage: 108.66 MB\n",
      "2025/03/23 05:17:49 Finished loading data successfully!\n"
     ]
    }
   ],
   "source": [
    "sumstats = gl.Sumstats(\"./1kgeas.B1.glm.firth.gz\",fmt=\"plink2\")"
   ]
  },
  {
   "cell_type": "code",
   "execution_count": null,
   "metadata": {},
   "outputs": [],
   "source": []
  }
 ],
 "metadata": {
  "kernelspec": {
   "display_name": "gwaslab_env",
   "language": "python",
   "name": "python3"
  },
  "language_info": {
   "codemirror_mode": {
    "name": "ipython",
    "version": 3
   },
   "file_extension": ".py",
   "mimetype": "text/x-python",
   "name": "python",
   "nbconvert_exporter": "python",
   "pygments_lexer": "ipython3",
   "version": "3.9.21"
  }
 },
 "nbformat": 4,
 "nbformat_minor": 2
}
