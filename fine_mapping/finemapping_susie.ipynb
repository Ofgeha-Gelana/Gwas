{
 "cells": [
  {
   "cell_type": "markdown",
   "metadata": {},
   "source": [
    "### Finemapping using susieR\n"
   ]
  },
  {
   "cell_type": "markdown",
   "metadata": {},
   "source": [
    "\n",
    "Data preparation\n"
   ]
  },
  {
   "cell_type": "code",
   "execution_count": 1,
   "metadata": {},
   "outputs": [],
   "source": [
    "import gwaslab as gl\n",
    "import pandas as pd\n",
    "import numpy as np\n",
    "import seaborn as sns\n",
    "import matplotlib.pyplot as plt"
   ]
  },
  {
   "cell_type": "markdown",
   "metadata": {},
   "source": [
    "#### Load sumstats"
   ]
  },
  {
   "cell_type": "code",
   "execution_count": 2,
   "metadata": {},
   "outputs": [
    {
     "name": "stdout",
     "output_type": "stream",
     "text": [
      "2025/03/23 05:17:45 GWASLab v3.5.5 https://cloufield.github.io/gwaslab/\n",
      "2025/03/23 05:17:45 (C) 2022-2025, Yunye He, Kamatani Lab, GPL-3.0 license, gwaslab@gmail.com\n",
      "2025/03/23 05:17:45 Start to load format from formatbook....\n",
      "2025/03/23 05:17:45  -plink2 format meta info:\n",
      "2025/03/23 05:17:45   - format_name  : PLINK2 .glm.firth, .glm.logistic,.glm.linear\n",
      "2025/03/23 05:17:45   - format_source  : https://www.cog-genomics.org/plink/2.0/formats\n",
      "2025/03/23 05:17:45   - format_version  : Alpha 3.3 final (3 Jun)\n",
      "2025/03/23 05:17:45   - last_check_date  :  20220806\n",
      "2025/03/23 05:17:45  -plink2 to gwaslab format dictionary:\n",
      "2025/03/23 05:17:45   - plink2 keys: ID,#CHROM,POS,REF,ALT,A1,OBS_CT,A1_FREQ,BETA,LOG(OR)_SE,SE,T_STAT,Z_STAT,P,LOG10_P,MACH_R2,OR\n",
      "2025/03/23 05:17:45   - gwaslab values: SNPID,CHR,POS,REF,ALT,EA,N,EAF,BETA,SE,SE,T,Z,P,MLOG10P,INFO,OR\n",
      "2025/03/23 05:17:45 Start to initialize gl.Sumstats from file :./1kgeas.B1.glm.firth.gz\n",
      "2025/03/23 05:17:47  -Reading columns          : OR,REF,A1,POS,A1_FREQ,#CHROM,ID,P,OBS_CT,ALT,Z_STAT,LOG(OR)_SE\n",
      "2025/03/23 05:17:47  -Renaming columns to      : OR,REF,EA,POS,EAF,CHR,SNPID,P,N,ALT,Z,SE\n",
      "2025/03/23 05:17:47  -Current Dataframe shape : 1128732  x  12\n",
      "2025/03/23 05:17:47  -Initiating a status column: STATUS ...\n",
      "2025/03/23 05:17:47  #WARNING! Version of genomic coordinates is unknown...\n",
      "2025/03/23 05:17:48  NEA not available: assigning REF to NEA...\n",
      "2025/03/23 05:17:48  -EA,REF and ALT columns are available: assigning NEA...\n",
      "2025/03/23 05:17:48  -For variants with EA == ALT : assigning REF to NEA ...\n",
      "2025/03/23 05:17:48  -For variants with EA != ALT : assigning ALT to NEA ...\n",
      "2025/03/23 05:17:48 Start to reorder the columns...v3.5.5\n",
      "2025/03/23 05:17:48  -Current Dataframe shape : 1128732 x 14 ; Memory usage: 107.58 MB\n",
      "2025/03/23 05:17:48  -Reordering columns to    : SNPID,CHR,POS,EA,NEA,EAF,SE,Z,P,OR,N,STATUS,REF,ALT\n",
      "2025/03/23 05:17:48 Finished reordering the columns.\n",
      "2025/03/23 05:17:48  -Trying to convert datatype for CHR: string -> Int64...Int64\n",
      "2025/03/23 05:17:49  -Column  : SNPID  CHR   POS   EA       NEA      EAF     SE      Z       P       OR      N     STATUS   REF      ALT     \n",
      "2025/03/23 05:17:49  -DType   : object Int64 int64 category category float64 float64 float64 float64 float64 int64 category category category\n",
      "2025/03/23 05:17:49  -Verified: T      T     T     T        T        T       T       T       T       T       T     T        T        T       \n",
      "2025/03/23 05:17:49  -Current Dataframe memory usage: 108.66 MB\n",
      "2025/03/23 05:17:49 Finished loading data successfully!\n"
     ]
    }
   ],
   "source": [
    "sumstats = gl.Sumstats(\"./1kgeas.B1.glm.firth.gz\",fmt=\"plink2\")"
   ]
  },
  {
   "cell_type": "markdown",
   "metadata": {},
   "source": [
    "#### Data standardization and sanity check"
   ]
  },
  {
   "cell_type": "code",
   "execution_count": 3,
   "metadata": {},
   "outputs": [
    {
     "name": "stdout",
     "output_type": "stream",
     "text": [
      "2025/03/23 05:30:19 Start to check SNPID/rsID...v3.5.5\n",
      "2025/03/23 05:30:19  -Current Dataframe shape : 1128732 x 14 ; Memory usage: 108.66 MB\n",
      "2025/03/23 05:30:19  -Checking SNPID data type...\n",
      "2025/03/23 05:30:19  -Converting SNPID to pd.string data type...\n",
      "2025/03/23 05:30:19  -Checking if SNPID is CHR:POS:NEA:EA...(separator: - ,: , _)\n",
      "2025/03/23 05:30:23 Finished checking SNPID/rsID.\n",
      "2025/03/23 05:30:23 Start to fix chromosome notation (CHR)...v3.5.5\n",
      "2025/03/23 05:30:23  -Current Dataframe shape : 1128732 x 14 ; Memory usage: 108.66 MB\n",
      "2025/03/23 05:30:23  -Checking CHR data type...\n",
      "2025/03/23 05:30:23  -Variants with standardized chromosome notation: 1128732\n",
      "2025/03/23 05:30:23  -All CHR are already fixed...\n",
      "2025/03/23 05:30:25 Finished fixing chromosome notation (CHR).\n",
      "2025/03/23 05:30:25 Start to fix basepair positions (POS)...v3.5.5\n",
      "2025/03/23 05:30:25  -Current Dataframe shape : 1128732 x 14 ; Memory usage: 108.66 MB\n",
      "2025/03/23 05:30:25  -Converting to Int64 data type ...\n",
      "2025/03/23 05:30:29  -Position bound:(0 , 250,000,000)\n",
      "2025/03/23 05:30:29  -Removed outliers: 0\n",
      "2025/03/23 05:30:29 Finished fixing basepair positions (POS).\n",
      "2025/03/23 05:30:29 Start to fix alleles (EA and NEA)...v3.5.5\n",
      "2025/03/23 05:30:29  -Current Dataframe shape : 1128732 x 14 ; Memory usage: 118.35 MB\n",
      "2025/03/23 05:30:29  -Converted all bases to string datatype and UPPERCASE.\n",
      "2025/03/23 05:30:30  -Variants with bad EA  : 0\n",
      "2025/03/23 05:30:30  -Variants with bad NEA : 0\n",
      "2025/03/23 05:30:30  -Variants with NA for EA or NEA: 0\n",
      "2025/03/23 05:30:30  -Variants with same EA and NEA: 0\n",
      "2025/03/23 05:30:30  -Detected 0 variants with alleles that contain bases other than A/C/T/G .\n",
      "2025/03/23 05:30:32 Finished fixing alleles (EA and NEA).\n",
      "2025/03/23 05:30:32 Start to perform sanity check for statistics...v3.5.5\n",
      "2025/03/23 05:30:32  -Current Dataframe shape : 1128732 x 14 ; Memory usage: 118.35 MB\n",
      "2025/03/23 05:30:32  -Comparison tolerance for floats: 1e-07\n",
      "2025/03/23 05:30:32  -Checking if 0 <= N <= 2147483647 ...\n",
      "2025/03/23 05:30:33  -Removed 0 variants with bad/na N.\n",
      "2025/03/23 05:30:33  -Checking if -1e-07 < EAF < 1.0000001 ...\n",
      "2025/03/23 05:30:33  -Removed 0 variants with bad/na EAF.\n",
      "2025/03/23 05:30:33  -Checking if -9999.0000001 < Z < 9999.0000001 ...\n",
      "2025/03/23 05:30:33   -Examples of invalid variants(SNPID): 1:15774:G:A,1:15777:A:G,1:57292:C:T,1:87360:C:T,1:625392:T:C ...\n",
      "2025/03/23 05:30:33   -Examples of invalid values (Z): NA,NA,NA,NA,NA ...\n",
      "2025/03/23 05:30:33  -Removed 220793 variants with bad/na Z.\n",
      "2025/03/23 05:30:33  -Checking if -1e-07 < P < 1.0000001 ...\n",
      "2025/03/23 05:30:33  -Removed 0 variants with bad/na P.\n",
      "2025/03/23 05:30:33  -Checking if -1e-07 < SE < inf ...\n",
      "2025/03/23 05:30:33  -Removed 0 variants with bad/na SE.\n",
      "2025/03/23 05:30:33  -Checking if -100.0000001 < OR < 100.0000001 ...\n",
      "2025/03/23 05:30:33  -Removed 0 variants with bad/na OR.\n",
      "2025/03/23 05:30:33  -Checking STATUS and converting STATUS to categories....\n",
      "2025/03/23 05:30:34  -Removed 220793 variants with bad statistics in total.\n",
      "2025/03/23 05:30:34  -Data types for each column:\n",
      "2025/03/23 05:30:34  -Column  : SNPID  CHR   POS   EA       NEA      EAF     SE      Z       P       OR      N     STATUS   REF      ALT     \n",
      "2025/03/23 05:30:34  -DType   : string Int64 Int64 category category float32 float64 float64 float64 float64 Int64 category category category\n",
      "2025/03/23 05:30:34  -Verified: T      T     T     T        T        T       T       T       T       T       T     T        T        T       \n",
      "2025/03/23 05:30:34 Finished sanity check for statistics.\n",
      "2025/03/23 05:30:34 Start to check data consistency across columns...v3.5.5\n",
      "2025/03/23 05:30:34  -Current Dataframe shape : 907939 x 14 ; Memory usage: 96.80 MB\n",
      "2025/03/23 05:30:34  -Tolerance: 0.001 (Relative) and 0.001 (Absolute)\n",
      "2025/03/23 05:30:34  -No availalbe columns for data consistency checking...Skipping...\n",
      "2025/03/23 05:30:34 Finished checking data consistency across columns.\n",
      "2025/03/23 05:30:34 Start to normalize indels...v3.5.5\n",
      "2025/03/23 05:30:34  -Current Dataframe shape : 907939 x 14 ; Memory usage: 96.80 MB\n",
      "2025/03/23 05:30:35  -No available variants to normalize..\n",
      "2025/03/23 05:30:35 Finished normalizing variants successfully!\n",
      "2025/03/23 05:30:35 Start to sort the genome coordinates...v3.5.5\n",
      "2025/03/23 05:30:35  -Current Dataframe shape : 907939 x 14 ; Memory usage: 96.80 MB\n",
      "2025/03/23 05:30:35 Finished sorting coordinates.\n",
      "2025/03/23 05:30:35 Start to reorder the columns...v3.5.5\n",
      "2025/03/23 05:30:35  -Current Dataframe shape : 907939 x 14 ; Memory usage: 89.87 MB\n",
      "2025/03/23 05:30:35  -Reordering columns to    : SNPID,CHR,POS,EA,NEA,EAF,SE,Z,P,OR,N,STATUS,REF,ALT\n",
      "2025/03/23 05:30:35 Finished reordering the columns.\n"
     ]
    }
   ],
   "source": [
    "sumstats.basic_check()"
   ]
  },
  {
   "cell_type": "markdown",
   "metadata": {},
   "source": [
    "#### Extract lead variants"
   ]
  },
  {
   "cell_type": "code",
   "execution_count": 4,
   "metadata": {},
   "outputs": [
    {
     "name": "stdout",
     "output_type": "stream",
     "text": [
      "2025/03/23 05:36:40 Start to extract lead variants...v3.5.5\n",
      "2025/03/23 05:36:40  -Current Dataframe shape : 907939 x 14 ; Memory usage: 89.87 MB\n",
      "2025/03/23 05:36:40  -Processing 907939 variants...\n",
      "2025/03/23 05:36:40  -Significance threshold : 5e-08\n",
      "2025/03/23 05:36:40  -Sliding window size: 500  kb\n",
      "2025/03/23 05:36:40  -Using P for extracting lead variants...\n",
      "2025/03/23 05:36:40  -Found 43 significant variants in total...\n",
      "2025/03/23 05:36:40  -Identified 4 lead variants!\n",
      "2025/03/23 05:36:40 Finished extracting lead variants.\n"
     ]
    },
    {
     "data": {
      "text/html": [
       "<div>\n",
       "<style scoped>\n",
       "    .dataframe tbody tr th:only-of-type {\n",
       "        vertical-align: middle;\n",
       "    }\n",
       "\n",
       "    .dataframe tbody tr th {\n",
       "        vertical-align: top;\n",
       "    }\n",
       "\n",
       "    .dataframe thead th {\n",
       "        text-align: right;\n",
       "    }\n",
       "</style>\n",
       "<table border=\"1\" class=\"dataframe\">\n",
       "  <thead>\n",
       "    <tr style=\"text-align: right;\">\n",
       "      <th></th>\n",
       "      <th>SNPID</th>\n",
       "      <th>CHR</th>\n",
       "      <th>POS</th>\n",
       "      <th>EA</th>\n",
       "      <th>NEA</th>\n",
       "      <th>EAF</th>\n",
       "      <th>SE</th>\n",
       "      <th>Z</th>\n",
       "      <th>P</th>\n",
       "      <th>OR</th>\n",
       "      <th>N</th>\n",
       "      <th>STATUS</th>\n",
       "      <th>REF</th>\n",
       "      <th>ALT</th>\n",
       "    </tr>\n",
       "  </thead>\n",
       "  <tbody>\n",
       "    <tr>\n",
       "      <th>44298</th>\n",
       "      <td>1:167562605:G:A</td>\n",
       "      <td>1</td>\n",
       "      <td>167562605</td>\n",
       "      <td>A</td>\n",
       "      <td>G</td>\n",
       "      <td>0.391481</td>\n",
       "      <td>0.159645</td>\n",
       "      <td>7.69462</td>\n",
       "      <td>1.419150e-14</td>\n",
       "      <td>3.415780</td>\n",
       "      <td>493</td>\n",
       "      <td>9960099</td>\n",
       "      <td>G</td>\n",
       "      <td>A</td>\n",
       "    </tr>\n",
       "    <tr>\n",
       "      <th>91266</th>\n",
       "      <td>2:55513738:C:T</td>\n",
       "      <td>2</td>\n",
       "      <td>55513738</td>\n",
       "      <td>C</td>\n",
       "      <td>T</td>\n",
       "      <td>0.376008</td>\n",
       "      <td>0.153159</td>\n",
       "      <td>-7.96244</td>\n",
       "      <td>1.686760e-15</td>\n",
       "      <td>0.295373</td>\n",
       "      <td>496</td>\n",
       "      <td>9960099</td>\n",
       "      <td>C</td>\n",
       "      <td>T</td>\n",
       "    </tr>\n",
       "    <tr>\n",
       "      <th>442239</th>\n",
       "      <td>7:134368632:T:G</td>\n",
       "      <td>7</td>\n",
       "      <td>134368632</td>\n",
       "      <td>G</td>\n",
       "      <td>T</td>\n",
       "      <td>0.138105</td>\n",
       "      <td>0.225526</td>\n",
       "      <td>6.89025</td>\n",
       "      <td>5.569440e-12</td>\n",
       "      <td>4.730010</td>\n",
       "      <td>496</td>\n",
       "      <td>9960099</td>\n",
       "      <td>T</td>\n",
       "      <td>G</td>\n",
       "    </tr>\n",
       "    <tr>\n",
       "      <th>875859</th>\n",
       "      <td>20:42758834:T:C</td>\n",
       "      <td>20</td>\n",
       "      <td>42758834</td>\n",
       "      <td>T</td>\n",
       "      <td>C</td>\n",
       "      <td>0.227273</td>\n",
       "      <td>0.184323</td>\n",
       "      <td>-7.76902</td>\n",
       "      <td>7.909780e-15</td>\n",
       "      <td>0.238829</td>\n",
       "      <td>495</td>\n",
       "      <td>9960099</td>\n",
       "      <td>T</td>\n",
       "      <td>C</td>\n",
       "    </tr>\n",
       "  </tbody>\n",
       "</table>\n",
       "</div>"
      ],
      "text/plain": [
       "                  SNPID  CHR        POS EA NEA       EAF        SE        Z  \\\n",
       "44298   1:167562605:G:A    1  167562605  A   G  0.391481  0.159645  7.69462   \n",
       "91266    2:55513738:C:T    2   55513738  C   T  0.376008  0.153159 -7.96244   \n",
       "442239  7:134368632:T:G    7  134368632  G   T  0.138105  0.225526  6.89025   \n",
       "875859  20:42758834:T:C   20   42758834  T   C  0.227273  0.184323 -7.76902   \n",
       "\n",
       "                   P        OR    N   STATUS REF ALT  \n",
       "44298   1.419150e-14  3.415780  493  9960099   G   A  \n",
       "91266   1.686760e-15  0.295373  496  9960099   C   T  \n",
       "442239  5.569440e-12  4.730010  496  9960099   T   G  \n",
       "875859  7.909780e-15  0.238829  495  9960099   T   C  "
      ]
     },
     "execution_count": 4,
     "metadata": {},
     "output_type": "execute_result"
    }
   ],
   "source": [
    "sumstats.get_lead()"
   ]
  },
  {
   "cell_type": "code",
   "execution_count": null,
   "metadata": {},
   "outputs": [],
   "source": []
  }
 ],
 "metadata": {
  "kernelspec": {
   "display_name": "gwaslab_env",
   "language": "python",
   "name": "python3"
  },
  "language_info": {
   "codemirror_mode": {
    "name": "ipython",
    "version": 3
   },
   "file_extension": ".py",
   "mimetype": "text/x-python",
   "name": "python",
   "nbconvert_exporter": "python",
   "pygments_lexer": "ipython3",
   "version": "3.9.21"
  }
 },
 "nbformat": 4,
 "nbformat_minor": 2
}
